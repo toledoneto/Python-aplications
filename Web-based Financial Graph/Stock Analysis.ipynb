{
 "cells": [
  {
   "cell_type": "code",
   "execution_count": 2,
   "metadata": {},
   "outputs": [
    {
     "name": "stdout",
     "output_type": "stream",
     "text": [
      "[*********************100%***********************]  1 of 1 downloaded\n"
     ]
    },
    {
     "name": "stderr",
     "output_type": "stream",
     "text": [
      "c:\\users\\netot\\desktop\\cursos\\python\\aplications\\web-based financial graph\\virtual\\lib\\site-packages\\ipykernel_launcher.py:10: FutureWarning: \n",
      "Panel is deprecated and will be removed in a future version.\n",
      "The recommended way to represent these types of 3-dimensional data are with a MultiIndex on a DataFrame, via the Panel.to_frame() method\n",
      "Alternatively, you can use the xarray package http://xarray.pydata.org/en/stable/.\n",
      "Pandas provides a `.to_xarray()` method to help automate this conversion.\n",
      "\n",
      "  # Remove the CWD from sys.path while we load stuff.\n",
      "c:\\users\\netot\\desktop\\cursos\\python\\aplications\\web-based financial graph\\virtual\\lib\\site-packages\\fix_yahoo_finance\\__init__.py:199: FutureWarning: \n",
      "Panel is deprecated and will be removed in a future version.\n",
      "The recommended way to represent these types of 3-dimensional data are with a MultiIndex on a DataFrame, via the Panel.to_frame() method\n",
      "Alternatively, you can use the xarray package http://xarray.pydata.org/en/stable/.\n",
      "Pandas provides a `.to_xarray()` method to help automate this conversion.\n",
      "\n",
      "  data = data.swapaxes(0, 2)\n"
     ]
    }
   ],
   "source": [
    "import fix_yahoo_finance as yf\n",
    "import datetime\n",
    "from bokeh.plotting import figure, show, output_file\n",
    "from pandas_datareader import data\n",
    "\n",
    "start=datetime.datetime(2015,11,1)\n",
    "end=datetime.datetime(2016,3,10)\n",
    "\n",
    "yf.pdr_override()\n",
    "df=data.get_data_yahoo(tickers=\"GOOG\", start=start, end=end)\n",
    "\n",
    "# criando uma nova coluna pra armazenar se o dia teve fechamento peositivo ou negativo\n",
    "def inc_dec(c, o):\n",
    "    if c > o:\n",
    "        value = \"Increase\"\n",
    "    else:\n",
    "        value = \"Decrease\"\n",
    "    return value\n",
    "\n",
    "df[\"Status\"] = [inc_dec(c,o) for c, o in zip(df.Close, df.Open)]\n",
    "\n",
    "# criando colunas aux para plotar os gráficos\n",
    "df[\"Middle\"] = (df.Open + df.Close)/2\n",
    "df[\"Height\"] = abs(df.Close - df.Open)\n",
    "\n",
    "date_increase = df.index[df.Close > df.Open]\n",
    "date_decrease = df.index[df.Close < df.Open]\n",
    "\n",
    "p = figure(x_axis_type = \"datetime\", width = 1000, height = 300)\n",
    "p.title.text = \"Candlestick Chart\"\n",
    "p.grid.grid_line_alpha = 0.3\n",
    "\n",
    "hours_12 = 12*60*60*1000\n",
    "\n",
    "# cria as linhas do plot\n",
    "p.segment(df.index, df.High, df.index, df.Low, color = \"Black\")\n",
    "\n",
    "# caso o dia tenha fechado em alta\n",
    "p.rect(df.index[df.Status == \"Increase\"], df.Middle[df.Status == \"Increase\"], hours_12, df.Height[df.Status == \"Increase\"], \n",
    "       fill_color = 'green', line_color = \"black\")\n",
    "\n",
    "# caso o dia tenha fechado em baixa\n",
    "p.rect(df.index[df.Status == \"Decrease\"], df.Middle[df.Status == \"Decrease\"], hours_12, df.Height[df.Status == \"Decrease\"], \n",
    "       fill_color = 'red', line_color = \"black\")\n",
    "\n",
    "output_file(\"CS.html\")\n",
    "show(p)"
   ]
  },
  {
   "cell_type": "code",
   "execution_count": null,
   "metadata": {},
   "outputs": [],
   "source": []
  }
 ],
 "metadata": {
  "kernelspec": {
   "display_name": "webbased_financial",
   "language": "python",
   "name": "webbased_financial"
  },
  "language_info": {
   "codemirror_mode": {
    "name": "ipython",
    "version": 3
   },
   "file_extension": ".py",
   "mimetype": "text/x-python",
   "name": "python",
   "nbconvert_exporter": "python",
   "pygments_lexer": "ipython3",
   "version": "3.6.5"
  }
 },
 "nbformat": 4,
 "nbformat_minor": 2
}
